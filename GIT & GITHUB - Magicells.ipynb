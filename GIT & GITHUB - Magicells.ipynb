{
 "cells": [
  {
   "cell_type": "markdown",
   "id": "30b3f850-c54d-470b-a72a-aa41ff1c6488",
   "metadata": {
    "tags": []
   },
   "source": [
    "Git es un sistema de control de versiones distribuido ampliamente utilizado que permite a los desarrolladores rastrear y administrar cambios en el código fuente de un proyecto. Con Git, los desarrolladores pueden trabajar en ramas separadas para experimentar con nuevas características sin afectar la rama principal del proyecto. Además, GitHub, un servicio de alojamiento de repositorios basado en la nube, se utiliza comúnmente como un repositorio remoto para proyectos de Git. GitHub proporciona una plataforma para que los desarrolladores colaboren, revisen y gestionen el código fuente de manera eficiente, facilitando la contribución de múltiples personas a un proyecto de software.\n",
    "\n",
    "GIT \n",
    "\n",
    "En la configuración de Git, se explican los tres niveles de configuración (local, global y del sistema), y cómo cada nivel tiene prioridad sobre el anterior. Se detallan las configuraciones comunes, como el correo electrónico y el nombre de usuario, y cómo modificarlas a través del comando git config. Además, se destacan las ventajas de utilizar alias para comandos frecuentes, lo que agiliza el flujo de trabajo.\n",
    "\n",
    "En cuanto a las ramificaciones en Git, se explican como una característica fundamental para trabajar en diferentes versiones de un proyecto de forma concurrente. Se describe cómo crear, cambiar y fusionar ramas utilizando comandos como git branch y git checkout, y se enfatiza la importancia de fusionar las ramas de vuelta a la rama principal una vez que se completa la tarea correspondiente.\n",
    "\n",
    "En la resolución de conflictos, se detalla cómo Git maneja los conflictos cuando dos ramas tienen cambios conflictivos en el mismo archivo. Se proporcionan herramientas para resolver conflictos manualmente, como abrir un editor de texto para resolver diferencias, y se destaca la importancia de dejar mensajes descriptivos al realizar operaciones críticas.\n",
    "\n",
    "En el trabajo con repositorios remotos, se explican los beneficios de colaborar con otros desarrolladores y respaldar proyectos en la nube. Se detallan las operaciones comunes con repositorios remotos, como clonar, agregar remotos adicionales, realizar fetch, merge (pull) y push, y se destaca la importancia de mantener los cambios locales sincronizados con los repositorios remotos para evitar conflictos.\n",
    "\n",
    "Finalmente, se presenta un flujo de trabajo típico que implica obtener cambios del repositorio remoto (git pull), trabajar localmente en el proyecto y luego enviar los cambios de vuelta al repositorio remoto (git push). Además, se ofrecen consejos adicionales, como evitar crear repositorios anidados y dejar mensajes descriptivos al realizar operaciones críticas."
   ]
  },
  {
   "cell_type": "markdown",
   "id": "4ad734ce-2762-4aaa-b275-da25696b8948",
   "metadata": {},
   "source": [
    "GITHUB\n",
    "GitHub ofrece herramientas integrales para gestionar versiones, controlar ramas, proteger el código, trabajar en repositorios privados y colaborar eficientemente con otros desarrolladores. La gestión de versiones permite a los equipos mantener un historial completo de cambios en el código, lo que facilita la colaboración y la resolución de conflictos.\n",
    "\n",
    "El control de ramas permite a los desarrolladores trabajar en características o mejoras específicas de manera aislada, mientras que las funciones de protección de ramas garantizan la integridad y la calidad del código en el repositorio principal.\n",
    "\n",
    "Los repositorios privados son ideales para proyectos confidenciales o sensibles que requieren un control de acceso estricto, mientras que las funciones de gestión de colaboradores permiten a los equipos controlar quién puede acceder y contribuir al proyecto.\n",
    "\n",
    "La clonación y la bifurcación son procesos esenciales que permiten a los desarrolladores trabajar en copias locales o independientes de un repositorio remoto, lo que facilita el desarrollo fuera de línea y la experimentación sin afectar el repositorio original.\n",
    "\n",
    "Los problemas y las solicitudes de extracción son herramientas clave para el seguimiento de problemas, la discusión de cambios y la revisión de código. Los problemas se utilizan para rastrear problemas, errores o mejoras potenciales en un proyecto, mientras que las solicitudes de extracción se utilizan para proponer y discutir cambios específicos en el código."
   ]
  },
  {
   "cell_type": "markdown",
   "id": "3ae2e3db-1c84-4972-a499-dad415e346eb",
   "metadata": {
    "tags": []
   },
   "source": [
    "Comandos de GIT\n",
    "\n",
    "git clone [URL]: Este comando se utiliza para clonar un repositorio remoto en un repositorio local. Por ejemplo, git clone https://github.com/usuario/repositorio.git clonaría el repositorio ubicado en esa URL en tu máquina local.\n",
    "\n",
    "git init: Este comando se utiliza para inicializar un repositorio Git en un directorio local. Cuando ejecutas git init en un directorio, crea un nuevo repositorio Git en ese directorio.\n",
    "\n",
    "git add [archivo]: Este comando se utiliza para agregar archivos al área de preparación (staging area) antes de realizar una confirmación. Puedes especificar un archivo específico, como git add archivo.txt, o usar git add . para agregar todos los archivos modificados en el directorio actual.\n",
    "\n",
    "git commit -m \"[mensaje]\": Este comando se utiliza para confirmar los cambios en el repositorio local. El argumento -m se utiliza para proporcionar un mensaje de confirmación que describe los cambios realizados en esa confirmación.\n",
    "\n",
    "git status: Este comando se utiliza para ver el estado actual del repositorio. Muestra los archivos que han sido modificados, agregados o eliminados, así como los archivos que están en el área de preparación y los que no están bajo seguimiento.\n",
    "\n",
    "git pull: Este comando se utiliza para recuperar y fusionar los cambios remotos en el repositorio local. Es útil para sincronizar el repositorio local con el repositorio remoto.\n",
    "\n",
    "git push: Este comando se utiliza para enviar los cambios locales al repositorio remoto. Es necesario después de realizar confirmaciones locales y antes de que otros desarrolladores puedan ver y revisar esos cambios.\n",
    "\n",
    "git branch [nombre]: Este comando se utiliza para crear una nueva rama en el repositorio. Por ejemplo, git branch nueva-rama crearía una nueva rama llamada \"nueva-rama\".\n",
    "\n",
    "git checkout [rama]: Este comando se utiliza para cambiar entre ramas en el repositorio. Por ejemplo, git checkout nueva-rama cambiaría a la rama llamada \"nueva-rama\".\n",
    "\n",
    "git merge [rama]: Este comando se utiliza para fusionar los cambios de una rama específica en la rama actual. Por ejemplo, si estás en la rama \"principal\" y quieres fusionar los cambios de la rama \"desarrollo\", puedes ejecutar git merge desarrollo.\n",
    "\n",
    "git log: Este comando se utiliza para ver el historial de confirmaciones en el repositorio. Muestra una lista de todas las confirmaciones junto con sus mensajes y detalles.\n",
    "\n",
    "git reset [archivo]: Este comando se utiliza para deshacer los cambios en un archivo específico. Puedes usar git reset HEAD archivo.txt para sacar un archivo del área de preparación, o git reset --hard HEAD para deshacer todos los cambios en el directorio de trabajo."
   ]
  },
  {
   "cell_type": "markdown",
   "id": "f03a26eb-c699-44c4-b198-fef77fa39d86",
   "metadata": {},
   "source": [
    "Magic Cells\n",
    "\n",
    "Los magic cells en Python son una característica ofrecida por la biblioteca IPython, que es una interfaz interactiva para Python. Estos comandos mágicos, como se les llama comúnmente, son una forma de extender la funcionalidad de IPython más allá de las capacidades estándar de Python, permitiendo realizar tareas especiales o acceder a funciones avanzadas con solo una línea de código. Los magic cells se distinguen por comenzar con un signo de porcentaje (%) para comandos de una sola línea o con dos signos de porcentaje (%%) para comandos de múltiples líneas."
   ]
  },
  {
   "cell_type": "code",
   "execution_count": 5,
   "id": "a64d69a3-d98e-4ded-9ec8-82ab1fb80eb1",
   "metadata": {
    "tags": []
   },
   "outputs": [
    {
     "data": {
      "image/png": "[encoded data removed]",
      "text/plain": [
       "<Figure size 640x480 with 1 Axes>"
      ]
     },
     "metadata": {},
     "output_type": "display_data"
    }
   ],
   "source": [
    "%matplotlib inline\n",
    "import matplotlib.pyplot as plt\n",
    "\n",
    "x = [1, 2, 3, 4, 5]\n",
    "y = [10, 20, 25, 30, 35]\n",
    "\n",
    "plt.plot(x, y)\n",
    "plt.xlabel('Eje X')\n",
    "plt.ylabel('Eje Y')\n",
    "plt.title('Gráfico de ejemplo')\n",
    "plt.show()\n",
    "\n",
    "#%matplotlib inline: Este magic cell se utiliza para habilitar la representación de gráficos de matplotlib en línea en el entorno de IPython. Esto significa que los gráficos se mostrarán directamente debajo de la celda de código que los genera."
   ]
  },
  {
   "cell_type": "markdown",
   "id": "b12793a6-0556-4758-a404-eb5f80f6bcf6",
   "metadata": {
    "tags": []
   },
   "source": [
    "%timeit sum(range(1000))\n",
    "#%timeit: Este magic cell se utiliza para medir el tiempo de ejecución de una única línea de código o una expresión. Ejecuta el código varias veces y devuelve el tiempo promedio de ejecución."
   ]
  },
  {
   "cell_type": "code",
   "execution_count": 7,
   "id": "9ffc16ca-0064-4a10-81c7-fba8d8f962d0",
   "metadata": {
    "tags": []
   },
   "outputs": [
    {
     "name": "stdout",
     "output_type": "stream",
     "text": [
      "CPU times: total: 31.2 ms\n",
      "Wall time: 31.6 ms\n"
     ]
    }
   ],
   "source": [
    "%%time\n",
    "for _ in range(1000):\n",
    "    sum(range(1000))\n",
    "\n",
    "#%%time: Similar a %timeit, este magic cell mide el tiempo de ejecución de un bloque de código en lugar de una sola línea."
   ]
  },
  {
   "cell_type": "markdown",
   "id": "1344dfdc-d0db-407b-88b7-388da150000e",
   "metadata": {
    "tags": []
   },
   "source": [
    "%run: Este magic cell se utiliza para ejecutar un archivo Python como si fuera un script desde el entorno de IPython. Se proporciona el nombre del archivo como argumento."
   ]
  },
  {
   "cell_type": "code",
   "execution_count": null,
   "id": "dbda8b0d-b44d-4451-8e59-8ddde193f1fb",
   "metadata": {},
   "outputs": [],
   "source": [
    "%load: Este magic cell se utiliza para cargar el contenido de un archivo Python en una celda de IPython."
   ]
  }
 ],
 "metadata": {
  "kernelspec": {
   "display_name": "Python 3 (ipykernel)",
   "language": "python",
   "name": "python3"
  },
  "language_info": {
   "codemirror_mode": {
    "name": "ipython",
    "version": 3
   },
   "file_extension": ".py",
   "mimetype": "text/x-python",
   "name": "python",
   "nbconvert_exporter": "python",
   "pygments_lexer": "ipython3",
   "version": "3.11.5"
  }
 },
 "nbformat": 4,
 "nbformat_minor": 5
}
